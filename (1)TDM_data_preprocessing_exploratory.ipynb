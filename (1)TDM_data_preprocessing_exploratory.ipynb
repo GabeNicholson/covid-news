{
 "cells": [
  {
   "cell_type": "code",
   "execution_count": 72,
   "id": "bdd1ea34",
   "metadata": {},
   "outputs": [],
   "source": [
    "# Importing the required libraries\n",
    "import os\n",
    "import pandas as pd\n",
    "from lxml import etree\n",
    "from bs4 import BeautifulSoup\n",
    "from tqdm import tqdm\n",
    "tqdm.pandas()\n",
    "import multiprocessing as mp\n",
    "from multiprocessing import Pool\n",
    "import re\n",
    "import numpy as np\n",
    "from tqdm import tqdm\n",
    "import seaborn as sns\n",
    "import nltk"
   ]
  },
  {
   "cell_type": "markdown",
   "id": "fffa8d9b",
   "metadata": {},
   "source": [
    "### Import the Article Datasets"
   ]
  },
  {
   "cell_type": "code",
   "execution_count": 76,
   "id": "4307bd34",
   "metadata": {},
   "outputs": [],
   "source": [
    "# dataset_name = 'Covid-news-top-sources'\n",
    "# dataset_name = 'Covid-data-reports'\n",
    "# dataset_name = 'commentary_and_editorial'\n",
    "# dataset_name = 'oct_to_april_30'\n",
    "# dataset_name = 'big-five-news-and-commentary'\n",
    "# dataset_name = 'Covid-data-reports'\n",
    "dataset_name = 'NS_sep_dec2020'\n",
    "\n",
    "dataset_prefix = '/home/ec2-user/SageMaker/data/'\n",
    "articles = os.listdir(dataset_prefix + dataset_name + '/')\n",
    "corpus_directory = dataset_prefix\n"
   ]
  },
  {
   "cell_type": "code",
   "execution_count": 77,
   "id": "af0dda40",
   "metadata": {},
   "outputs": [],
   "source": [
    "# Define a function to get the text content that is needed from the XML articles available in the dataset\n",
    "def getxmlcontent(root):\n",
    "    if root.find('.//HiddenText') is not None:\n",
    "        return(root.find('.//HiddenText').text)\n",
    "    elif root.find('.//Text') is not None:\n",
    "        return(root.find('.//Text').text)\n",
    "    else:\n",
    "        return None\n"
   ]
  },
  {
   "cell_type": "code",
   "execution_count": 78,
   "id": "1716bd05",
   "metadata": {},
   "outputs": [],
   "source": [
    "# Extract the necessary goid, text, and date content from the XML files\n",
    "# Set up for multiprocessing--for a single file\n",
    "def make_lists(article):\n",
    "    try:\n",
    "        tree = etree.parse(corpus_directory + dataset_name + '/' + article)\n",
    "        root = tree.getroot()\n",
    "        if getxmlcontent(root):\n",
    "            soup = BeautifulSoup(getxmlcontent(root))\n",
    "            text = soup.get_text().replace('\\\\n', '\\n')\n",
    "        else:\n",
    "            text = 'Error in processing document'\n",
    "        date = root.find('.//NumericDate').text\n",
    "        publication = root.find('.//SortTitle').text\n",
    "        title = root.find('.//Title').text\n",
    "        language = root.find('.//RawLang').text\n",
    "    except AttributeError:\n",
    "        # Error logging - will show filename if there is a problem processing it\n",
    "        print(\"Attribute Error\" + article)\n",
    "    return article, date, publication, title, text, language\n"
   ]
  },
  {
   "cell_type": "code",
   "execution_count": 79,
   "id": "9e30ef2b",
   "metadata": {},
   "outputs": [
    {
     "name": "stdout",
     "output_type": "stream",
     "text": [
      "4\n"
     ]
    }
   ],
   "source": [
    "# Check core count\n",
    "num_cores = mp.cpu_count()\n",
    "print(num_cores)\n"
   ]
  },
  {
   "cell_type": "code",
   "execution_count": 80,
   "id": "f87136ec",
   "metadata": {},
   "outputs": [],
   "source": [
    "# When using multiple processes, important to eventually close them to avoid memory/resource leaks\n",
    "try:\n",
    "    # Define a thread Pool to process multiple XML files simultaneously\n",
    "    # Default set to num_cores - 1, but may change number of processes depending on instance\n",
    "    p = Pool(processes=num_cores-1)\n",
    "\n",
    "    # Apply function with Pool to corpus\n",
    "    processed_lists = p.map(make_lists, articles[:])\n",
    "except:\n",
    "    print(\"Error in processing document\")\n",
    "finally:\n",
    "    p.close()\n"
   ]
  },
  {
   "cell_type": "code",
   "execution_count": 81,
   "id": "6af683ae",
   "metadata": {},
   "outputs": [
    {
     "name": "stdout",
     "output_type": "stream",
     "text": [
      "491113\n",
      "482439\n"
     ]
    }
   ],
   "source": [
    "# Transform processed data into a dataframe\n",
    "df = pd.DataFrame(processed_lists, columns=[\n",
    "                  'article_id', 'date', 'publisher', 'title', 'text', 'language'])\n",
    "print(len(df))\n",
    "df = df[df.text != 'Error in processing document']\n",
    "print(len(df))\n"
   ]
  },
  {
   "cell_type": "code",
   "execution_count": 82,
   "id": "ea547cf5",
   "metadata": {},
   "outputs": [
    {
     "data": {
      "text/plain": [
       "'2020-12-31'"
      ]
     },
     "execution_count": 82,
     "metadata": {},
     "output_type": "execute_result"
    }
   ],
   "source": [
    "df.date.max()\n"
   ]
  },
  {
   "cell_type": "markdown",
   "id": "f2f48c7c",
   "metadata": {},
   "source": [
    "**This dataframe contains all of the dates**"
   ]
  },
  {
   "cell_type": "code",
   "execution_count": 83,
   "id": "fe339c8b",
   "metadata": {},
   "outputs": [],
   "source": [
    "# df_name = 'B5_sep-mar2022.csv'\n",
    "# df_name = 'corona_news_sep-mar2022.csv'\n",
    "# df_name = 'B5_jan-dec2021.csv'\n",
    "\n",
    "# df_name = 'NS_jan-dec2021.csv'\n",
    "df_name = 'NS_sep-dec2020.csv'\n"
   ]
  },
  {
   "cell_type": "code",
   "execution_count": 84,
   "id": "3e8d32af",
   "metadata": {},
   "outputs": [],
   "source": [
    "# Saves the dataframe so I don't need to rescrape XML files.\n",
    "df.to_csv('csv/' + df_name)\n"
   ]
  },
  {
   "cell_type": "code",
   "execution_count": 85,
   "id": "5a389479",
   "metadata": {},
   "outputs": [],
   "source": [
    "# df_name = 'com_editorial.csv'\n",
    "# df_name = 'NS_oct-apr.csv'\n"
   ]
  },
  {
   "cell_type": "code",
   "execution_count": 3,
   "id": "89190901",
   "metadata": {},
   "outputs": [],
   "source": [
    "df = pd.read_csv('csv/' + df_name)\n"
   ]
  },
  {
   "cell_type": "markdown",
   "id": "10917630",
   "metadata": {},
   "source": [
    "### Create Dataframe and filter text/articles"
   ]
  },
  {
   "cell_type": "code",
   "execution_count": 86,
   "id": "829301bf",
   "metadata": {},
   "outputs": [
    {
     "data": {
      "text/plain": [
       "0         TV Listings\\nCOLLEGE FOOTBALL\\n6:30 p.m.\\nESPN...\n",
       "1         \\nMore than 200,000 dead since March. Cities i...\n",
       "2         A YouTuber was detained after he filmed himsel...\n",
       "3         Ohio's 2020 Ohio deer gun season will run Nov....\n",
       "4         \\nWe are now seven months into the pandemic, a...\n",
       "                                ...                        \n",
       "491108    Really!  All we want to hear is a real voice c...\n",
       "491109    \\n\\n\\n\\n\\n\\n\\nEl papa a su llegada a su audien...\n",
       "491110    Wow — just wow! Thank you for supporting our p...\n",
       "491111    Residents of Southwest Florida nursing homes a...\n",
       "491112    A combination of events in Cascade County Dist...\n",
       "Name: text, Length: 482439, dtype: object"
      ]
     },
     "execution_count": 86,
     "metadata": {},
     "output_type": "execute_result"
    }
   ],
   "source": [
    "df.text\n"
   ]
  },
  {
   "cell_type": "code",
   "execution_count": 87,
   "id": "59624a68",
   "metadata": {},
   "outputs": [],
   "source": [
    "def text_formatting(text):\n",
    "    ''' removes new_line characters, trailing whitespaces, and reformarts some words.\n",
    "    '''\n",
    "    text = re.sub('\\n', ' ', text).strip()\n",
    "    text = re.sub('we\\'ll', 'we will', text, flags=re.IGNORECASE)\n",
    "    text = re.sub('didn\\'t', 'did not', text, flags=re.IGNORECASE)\n",
    "    text = re.sub('doesn\\'t', 'does not', text, flags=re.IGNORECASE)\n",
    "    text = re.sub('what\\'s', 'what is', text, flags=re.IGNORECASE)\n",
    "    text = re.sub('aren\\'t', 'are not', text, flags=re.IGNORECASE)\n",
    "    text = re.sub('haven\\'t', 'have not', text, flags=re.IGNORECASE)\n",
    "    text = re.sub('it\\'s', 'it is', text, flags=re.IGNORECASE)\n",
    "    text = re.sub('that\\'s', 'that is', text, flags=re.IGNORECASE)\n",
    "    text = re.sub('he\\'s', 'he is', text, flags=re.IGNORECASE)\n",
    "    text = re.sub('she\\'s', 'she is', text, flags=re.IGNORECASE)\n",
    "    text = re.sub('don\\'t', 'do not', text, flags=re.IGNORECASE)\n",
    "    text = re.sub(r'sars-cov-2', 'covid', text, flags=re.IGNORECASE)\n",
    "    text = re.sub(r'coronavirus', 'covid', text, flags=re.IGNORECASE)\n",
    "    text = re.sub(r'covid-19', 'covid', text, flags=re.IGNORECASE)\n",
    "    return text\n",
    "\n",
    "\n",
    "covid_keywords = ['covid', 'vaccine', 'corona', 'virus', 'variant', 'vaccination', 'vaccinated',\n",
    "                  'hospital', 'cdc', 'lockdown', 'omicron', 'delta', 'ventilator', 'booster',\n",
    "                  'infected', 'masks', 'cases', 'n95', 'omicron']\n"
   ]
  },
  {
   "cell_type": "code",
   "execution_count": 88,
   "id": "939e1408",
   "metadata": {},
   "outputs": [
    {
     "name": "stderr",
     "output_type": "stream",
     "text": [
      "100%|██████████| 482439/482439 [06:43<00:00, 1196.33it/s]\n"
     ]
    }
   ],
   "source": [
    "df.text = df.text.progress_apply(lambda x: text_formatting(x))\n"
   ]
  },
  {
   "cell_type": "code",
   "execution_count": 89,
   "id": "d19cca6b",
   "metadata": {},
   "outputs": [
    {
     "name": "stderr",
     "output_type": "stream",
     "text": [
      "100%|██████████| 482439/482439 [09:49<00:00, 818.94it/s]\n"
     ]
    }
   ],
   "source": [
    "df['keyword_found'] = df.text.progress_apply(lambda x: re.findall(\n",
    "    r\"(?=(\"+'|'.join(covid_keywords)+r\"))\", x, flags=re.IGNORECASE))\n",
    "df['text_len'] = df.text.apply(len)\n",
    "df['keyword_len'] = df.keyword_found.apply(len)\n"
   ]
  },
  {
   "cell_type": "code",
   "execution_count": 90,
   "id": "8fd23a5c",
   "metadata": {},
   "outputs": [
    {
     "name": "stderr",
     "output_type": "stream",
     "text": [
      "/home/ec2-user/SageMaker/.conda/envs/corona/lib/python3.9/site-packages/seaborn/distributions.py:2619: FutureWarning: `distplot` is a deprecated function and will be removed in a future version. Please adapt your code to use either `displot` (a figure-level function with similar flexibility) or `histplot` (an axes-level function for histograms).\n",
      "  warnings.warn(msg, FutureWarning)\n"
     ]
    },
    {
     "data": {
      "image/png": "[encoded data removed]",
      "text/plain": [
       "<Figure size 432x288 with 1 Axes>"
      ]
     },
     "metadata": {
      "needs_background": "light"
     },
     "output_type": "display_data"
    }
   ],
   "source": [
    "sns.distplot(df.keyword_len)\n"
   ]
  },
  {
   "cell_type": "code",
   "execution_count": 91,
   "id": "68c75189",
   "metadata": {},
   "outputs": [
    {
     "data": {
      "text/plain": [
       "3936.26744521069"
      ]
     },
     "execution_count": 91,
     "metadata": {},
     "output_type": "execute_result"
    }
   ],
   "source": [
    "np.mean(df.text_len)\n"
   ]
  },
  {
   "cell_type": "code",
   "execution_count": 92,
   "id": "ef80de3d",
   "metadata": {},
   "outputs": [],
   "source": [
    "df = df[((df.keyword_len >= 7) & (df.text_len < 3500))\n",
    "        | ((df.keyword_len >= 40) & (df.text_len > 50000))\n",
    "        | ((df.keyword_len > 26) & (df.text_len > 10000))\n",
    "        | ((df.keyword_len >= 15) & (df.text_len <= 10000))\n",
    "        | ((df.keyword_len >= 10) & (df.text_len < 5000))]\n"
   ]
  },
  {
   "cell_type": "code",
   "execution_count": 93,
   "id": "33bef2b5",
   "metadata": {},
   "outputs": [],
   "source": [
    "def must_contain(lst):\n",
    "    if len(re.findall(r'omicron', lst, flags=re.IGNORECASE)) >= 1:\n",
    "        return True\n",
    "    elif len(re.findall(r'covid', lst, flags=re.IGNORECASE)) >= 2:\n",
    "        return True\n",
    "    elif len(re.findall(r'delta', lst, flags=re.IGNORECASE)) >= 2:\n",
    "        return True\n",
    "    else:\n",
    "        return False\n"
   ]
  },
  {
   "cell_type": "code",
   "execution_count": 94,
   "id": "80c0a944",
   "metadata": {},
   "outputs": [
    {
     "name": "stdout",
     "output_type": "stream",
     "text": [
      "Number of articles that did not meet keyword criteria: 2145\n",
      "Number of unique articles: 40012\n"
     ]
    }
   ],
   "source": [
    "# Uses keyword list and checks if they meet the treshold to be kept based on the three keywords above.\n",
    "length_before_remov = len(df)\n",
    "df = df[df.keyword_found.apply(lambda x: must_contain(' '.join(x)))]\n",
    "print(\n",
    "    f'Number of articles that did not meet keyword criteria: {length_before_remov - len(df)}')\n",
    "print(f'Number of unique articles: {df.article_id.nunique()}')\n"
   ]
  },
  {
   "cell_type": "code",
   "execution_count": 95,
   "id": "25aee6fb",
   "metadata": {},
   "outputs": [],
   "source": [
    "# Few bad articles found.\n",
    "drop_list = ['2451579018.xml', '2476387095.xml', '2488007259.xml', '2541478987.xml', '2580382669.xml', '2619769756.xml',\n",
    "             '2580683381.xml', '2458469193.xml', '2462711503.xml', '2610314222.xml']\n",
    "df.drop(df[df.article_id.isin(drop_list)].index, axis=0, inplace=True)\n"
   ]
  },
  {
   "cell_type": "markdown",
   "id": "ee8d1cc1",
   "metadata": {},
   "source": [
    "Some basic sentence formatting and choosing the number of sentences to keep"
   ]
  },
  {
   "cell_type": "code",
   "execution_count": 96,
   "id": "af06e681",
   "metadata": {
    "scrolled": true
   },
   "outputs": [
    {
     "name": "stderr",
     "output_type": "stream",
     "text": [
      "100%|██████████| 40010/40010 [00:03<00:00, 11400.98it/s]\n",
      "100%|██████████| 40010/40010 [00:41<00:00, 966.47it/s] \n"
     ]
    }
   ],
   "source": [
    "def period_spacing_formatting(text):\n",
    "    text = re.sub('(?<=\\.)(?=[A-Z]\\B)', ' ', text)\n",
    "    return text\n",
    "\n",
    "\n",
    "df['text'] = df.text.progress_apply(lambda x: period_spacing_formatting(x))\n",
    "sent_tokenizer = nltk.data.load('nltk_tokenizer/punkt/english.pickle')\n",
    "df['sentences'] = df.text.progress_apply(lambda x: sent_tokenizer.tokenize(x))\n",
    "\n",
    "\n",
    "def sentences_keep(sentences):\n",
    "    if len(sentences) > 13:\n",
    "        return sentences[:13]\n",
    "    elif (len(sentences) <= 13) & (len(sentences) > 1):\n",
    "        return sentences[:-1]\n",
    "    else:\n",
    "        return sentences\n",
    "\n",
    "\n",
    "# Keep only the first 13 sentences.\n",
    "df.sentences = df.sentences.apply(lambda x: sentences_keep(x))\n",
    "df.drop('text', axis=1, inplace=True)\n",
    "df.drop('keyword_found', axis=1, inplace=True)\n",
    "\n",
    "\n",
    "def keep_pairs(lst):\n",
    "    \"\"\" Makes predictions on pairs of sentences since they are usually small enough and fixes issues of tiny sentences.\n",
    "    \"\"\"\n",
    "    return [' '.join(x) for x in zip(lst[0::2], lst[1::2])]\n",
    "\n",
    "\n",
    "df['pairs'] = df.sentences.apply(keep_pairs)\n",
    "df.reset_index(inplace=True, drop=True)\n"
   ]
  },
  {
   "cell_type": "markdown",
   "id": "7999d010",
   "metadata": {},
   "source": [
    "**Need to remove all columns but 3**"
   ]
  },
  {
   "cell_type": "code",
   "execution_count": 97,
   "id": "c9ea5e6b",
   "metadata": {},
   "outputs": [],
   "source": [
    "pre_explode = df[['date', 'article_id', 'title']]\n"
   ]
  },
  {
   "cell_type": "code",
   "execution_count": 98,
   "id": "72e789ce",
   "metadata": {},
   "outputs": [
    {
     "data": {
      "text/html": [
       "<div>\n",
       "<style scoped>\n",
       "    .dataframe tbody tr th:only-of-type {\n",
       "        vertical-align: middle;\n",
       "    }\n",
       "\n",
       "    .dataframe tbody tr th {\n",
       "        vertical-align: top;\n",
       "    }\n",
       "\n",
       "    .dataframe thead th {\n",
       "        text-align: right;\n",
       "    }\n",
       "</style>\n",
       "<table border=\"1\" class=\"dataframe\">\n",
       "  <thead>\n",
       "    <tr style=\"text-align: right;\">\n",
       "      <th></th>\n",
       "      <th>date</th>\n",
       "      <th>article_id</th>\n",
       "      <th>title</th>\n",
       "    </tr>\n",
       "  </thead>\n",
       "  <tbody>\n",
       "    <tr>\n",
       "      <th>0</th>\n",
       "      <td>2020-11-23</td>\n",
       "      <td>2462862453.xml</td>\n",
       "      <td>Thanksgiving in the shadow of a pandemic</td>\n",
       "    </tr>\n",
       "    <tr>\n",
       "      <th>1</th>\n",
       "      <td>2020-10-27</td>\n",
       "      <td>2454312897.xml</td>\n",
       "      <td>State plan for vaccine distribution forming</td>\n",
       "    </tr>\n",
       "    <tr>\n",
       "      <th>2</th>\n",
       "      <td>2020-10-26</td>\n",
       "      <td>2458556314.xml</td>\n",
       "      <td>Hoop dreams on hold for former area standouts</td>\n",
       "    </tr>\n",
       "    <tr>\n",
       "      <th>3</th>\n",
       "      <td>2020-10-13</td>\n",
       "      <td>2604155275.xml</td>\n",
       "      <td>County reports 31 new COVID-19 cases</td>\n",
       "    </tr>\n",
       "    <tr>\n",
       "      <th>4</th>\n",
       "      <td>2020-11-19</td>\n",
       "      <td>2461859791.xml</td>\n",
       "      <td>Grassley tests positive for virus</td>\n",
       "    </tr>\n",
       "  </tbody>\n",
       "</table>\n",
       "</div>"
      ],
      "text/plain": [
       "         date      article_id                                          title\n",
       "0  2020-11-23  2462862453.xml       Thanksgiving in the shadow of a pandemic\n",
       "1  2020-10-27  2454312897.xml    State plan for vaccine distribution forming\n",
       "2  2020-10-26  2458556314.xml  Hoop dreams on hold for former area standouts\n",
       "3  2020-10-13  2604155275.xml           County reports 31 new COVID-19 cases\n",
       "4  2020-11-19  2461859791.xml              Grassley tests positive for virus"
      ]
     },
     "execution_count": 98,
     "metadata": {},
     "output_type": "execute_result"
    }
   ],
   "source": [
    "pre_explode.head()\n"
   ]
  },
  {
   "cell_type": "code",
   "execution_count": 99,
   "id": "18614b5e",
   "metadata": {},
   "outputs": [
    {
     "name": "stdout",
     "output_type": "stream",
     "text": [
      "NS_sep-dec2020.csv\n"
     ]
    }
   ],
   "source": [
    "print(df_name)\n",
    "# THIS HAS THE DATE MERGE DATA.\n",
    "pre_explode.to_csv('csv/pre_explode_' + df_name)\n"
   ]
  },
  {
   "cell_type": "markdown",
   "id": "803904d4",
   "metadata": {},
   "source": [
    "**Need to save the article i.ds of the ones being used so I can remove duplicates from the News Wire database.**\n",
    "\n",
    "**Make sure to concatenate all the other files other than the first one**"
   ]
  },
  {
   "cell_type": "code",
   "execution_count": 100,
   "id": "191e32d9",
   "metadata": {},
   "outputs": [
    {
     "data": {
      "text/plain": [
       "5285"
      ]
     },
     "execution_count": 100,
     "metadata": {},
     "output_type": "execute_result"
    }
   ],
   "source": [
    "# np.save(file='duplicates.npy', arr=df.article_id.unique())\n",
    "# duplicates = np.load(file='duplicates.npy', allow_pickle=True)\n",
    "# updated_duplicate = np.concatenate((duplicates, df.article_id))\n",
    "# np.save(file='duplicates', arr=updated_duplicate)\n",
    "check = np.load(file='duplicates.npy', allow_pickle=True)\n",
    "df.article_id.isin(check).sum()\n"
   ]
  },
  {
   "cell_type": "code",
   "execution_count": 101,
   "id": "9744e4f7",
   "metadata": {},
   "outputs": [],
   "source": [
    "df = df[~df.article_id.isin(check)]\n"
   ]
  },
  {
   "cell_type": "code",
   "execution_count": 102,
   "id": "ab9dd92e",
   "metadata": {},
   "outputs": [],
   "source": [
    "# This keeps it in the format required for data loader.\n",
    "df = df.explode('pairs')\n",
    "df.reset_index(inplace=True, drop=True)\n"
   ]
  },
  {
   "cell_type": "code",
   "execution_count": 103,
   "id": "c7b34f65",
   "metadata": {},
   "outputs": [
    {
     "name": "stdout",
     "output_type": "stream",
     "text": [
      "Dataframe NS_sep-dec2020.csv goes from 2020-09-01 to 2020-12-31.\n",
      "Dataframe NS_sep-dec2020.csv has 34725 unique articles.\n"
     ]
    }
   ],
   "source": [
    "print(f'Dataframe {df_name} goes from {df.date.min()} to {df.date.max()}.')\n",
    "print(f'Dataframe {df_name} has {df.article_id.nunique()} unique articles.')\n"
   ]
  },
  {
   "cell_type": "code",
   "execution_count": 104,
   "id": "b2e6f6fd",
   "metadata": {},
   "outputs": [],
   "source": [
    "df.to_csv('csv/no_txt_' + df_name)\n"
   ]
  },
  {
   "cell_type": "code",
   "execution_count": 105,
   "id": "ac01a7df",
   "metadata": {},
   "outputs": [
    {
     "data": {
      "text/plain": [
       "'NS_sep-dec2020.csv'"
      ]
     },
     "execution_count": 105,
     "metadata": {},
     "output_type": "execute_result"
    }
   ],
   "source": [
    "df_name\n"
   ]
  },
  {
   "cell_type": "code",
   "execution_count": 106,
   "id": "170e5911",
   "metadata": {},
   "outputs": [],
   "source": [
    "# df.sample(100).to_csv('email_test/tdm_samples.csv')\n"
   ]
  },
  {
   "cell_type": "code",
   "execution_count": null,
   "id": "b09236d1",
   "metadata": {},
   "outputs": [],
   "source": [
    "re."
   ]
  }
 ],
 "metadata": {
  "interpreter": {
   "hash": "9538652c875555cca96669dfca2072ebce91459703d44f7fca3d59b8ec9280fa"
  },
  "kernelspec": {
   "display_name": "corona",
   "language": "python",
   "name": "corona"
  },
  "language_info": {
   "codemirror_mode": {
    "name": "ipython",
    "version": 3
   },
   "file_extension": ".py",
   "mimetype": "text/x-python",
   "name": "python",
   "nbconvert_exporter": "python",
   "pygments_lexer": "ipython3",
   "version": "3.9.12"
  }
 },
 "nbformat": 4,
 "nbformat_minor": 5
}
