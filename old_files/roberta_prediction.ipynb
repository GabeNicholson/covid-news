{
 "cells": [
  {
   "cell_type": "code",
   "execution_count": 1,
   "metadata": {
    "scrolled": true
   },
   "outputs": [
    {
     "name": "stderr",
     "output_type": "stream",
     "text": [
      "/home/ec2-user/SageMaker/.conda/envs/torch_rona/lib/python3.8/site-packages/tqdm/auto.py:22: TqdmWarning: IProgress not found. Please update jupyter and ipywidgets. See https://ipywidgets.readthedocs.io/en/stable/user_install.html\n",
      "  from .autonotebook import tqdm as notebook_tqdm\n"
     ]
    },
    {
     "name": "stdout",
     "output_type": "stream",
     "text": [
      "There are 1 GPU(s) available.\n",
      "Device name: Tesla K80\n"
     ]
    }
   ],
   "source": [
    "import torch\n",
    "from covid import RobertaClassifier, SentimentData\n",
    "from roberta_prediction import tokenize_covid_dataframe, regular_news_tokenize\n",
    "import pandas as pd\n",
    "from transformers import RobertaTokenizer\n",
    "from torch.utils.data import DataLoader\n",
    "import torch.nn.functional as F\n",
    "import numpy as np\n",
    "from tqdm import tqdm\n",
    "import multiprocessing as mp\n",
    "tqdm.pandas()"
   ]
  },
  {
   "cell_type": "code",
   "execution_count": 3,
   "metadata": {},
   "outputs": [
    {
     "name": "stdout",
     "output_type": "stream",
     "text": [
      "Number of unique articles: 164481\n"
     ]
    }
   ],
   "source": [
    "df_name = 'can-apr2021-apr2022.csv'\n",
    "# df_name = 'us-mar-apr2022-headline.csv'\n",
    "# df_name = 'us_news_commentary.csv'\n",
    "\n",
    "df = pd.read_csv('csv/no_txt_' + df_name, parse_dates=['date'], index_col=[0]) \n",
    "print(f'Number of unique articles: {df.article_id.nunique()}')"
   ]
  },
  {
   "cell_type": "markdown",
   "metadata": {},
   "source": [
    "**Regular News**"
   ]
  },
  {
   "cell_type": "code",
   "execution_count": null,
   "metadata": {},
   "outputs": [],
   "source": [
    "predicted_df = regular_news_tokenize(df)"
   ]
  },
  {
   "cell_type": "code",
   "execution_count": null,
   "metadata": {},
   "outputs": [],
   "source": [
    "predicted_df.to_csv('csv/analysis_' + df_name)\n",
    "predicted_df.prediction.value_counts()"
   ]
  },
  {
   "cell_type": "markdown",
   "metadata": {},
   "source": [
    "**Covid News**"
   ]
  },
  {
   "cell_type": "code",
   "execution_count": null,
   "metadata": {},
   "outputs": [],
   "source": [
    "subset_df, device, tokenizer, finetuned_rob  = tokenize_covid_dataframe(df, headlines=False)"
   ]
  },
  {
   "cell_type": "markdown",
   "metadata": {},
   "source": [
    "## **Predicting with Roberta**"
   ]
  },
  {
   "cell_type": "code",
   "execution_count": 9,
   "metadata": {},
   "outputs": [],
   "source": [
    "def rob_predict(model, testing_loader):\n",
    "    model.eval()\n",
    "    prediction_list = []\n",
    "    score_list = []\n",
    "    with torch.no_grad(): \n",
    "        for data in tqdm(testing_loader):\n",
    "            ids = data['ids'].to(device, dtype = torch.long)\n",
    "            mask = data['mask'].to(device, dtype = torch.long)\n",
    "            token_type_ids = data['token_type_ids'].to(device, dtype=torch.long)\n",
    "            outputs = F.softmax(model(ids, mask, token_type_ids), dim=-1)\n",
    "            score, prediction = torch.max(outputs.data, dim=1)\n",
    "            prediction_list.extend(prediction.cpu().numpy())\n",
    "            score_list.extend(score.cpu().numpy())\n",
    "        return prediction_list , score_list\n",
    "    \n",
    "def run_model(dataframe):\n",
    "    testing_set = SentimentData(dataframe, tokenizer , max_len = 500)\n",
    "    testing_loader = DataLoader(testing_set, batch_size=15, num_workers=0) \n",
    "    prediction_list, score_list = rob_predict(finetuned_rob, testing_loader)\n",
    "    interm = pd.DataFrame({'prediction': prediction_list,'score': score_list})\n",
    "    test_df = pd.concat((dataframe, interm),axis=1)\n",
    "    return test_df"
   ]
  },
  {
   "cell_type": "code",
   "execution_count": null,
   "metadata": {},
   "outputs": [
    {
     "name": "stderr",
     "output_type": "stream",
     "text": [
      "  1%|          | 334/53967 [17:11<46:01:19,  3.09s/it]"
     ]
    }
   ],
   "source": [
    "%%time\n",
    "predicted_df = run_model(dataframe=subset_df)"
   ]
  },
  {
   "cell_type": "code",
   "execution_count": 18,
   "metadata": {},
   "outputs": [],
   "source": [
    "# df_name = 'can-apr2020-mar2021.csv'"
   ]
  },
  {
   "cell_type": "code",
   "execution_count": 19,
   "metadata": {},
   "outputs": [
    {
     "data": {
      "text/plain": [
       "0    487933\n",
       "1    321568\n",
       "Name: prediction, dtype: int64"
      ]
     },
     "execution_count": 19,
     "metadata": {},
     "output_type": "execute_result"
    }
   ],
   "source": [
    "predicted_df.to_csv('csv/analysis_' + df_name)\n",
    "predicted_df.prediction.value_counts()"
   ]
  },
  {
   "cell_type": "code",
   "execution_count": 20,
   "metadata": {},
   "outputs": [
    {
     "name": "stdout",
     "output_type": "stream",
     "text": [
      "csv/analysis_can-apr2020-mar2021.csv\n"
     ]
    }
   ],
   "source": [
    "print('csv/analysis_' + df_name)"
   ]
  },
  {
   "cell_type": "code",
   "execution_count": null,
   "metadata": {},
   "outputs": [],
   "source": []
  }
 ],
 "metadata": {
  "kernelspec": {
   "display_name": "Python 3.9.10 ('venv': venv)",
   "language": "python",
   "name": "python3"
  },
  "language_info": {
   "codemirror_mode": {
    "name": "ipython",
    "version": 3
   },
   "file_extension": ".py",
   "mimetype": "text/x-python",
   "name": "python",
   "nbconvert_exporter": "python",
   "pygments_lexer": "ipython3",
   "version": "3.9.10"
  },
  "vscode": {
   "interpreter": {
    "hash": "d4eb655d075be4e3e9abc3326227b3ad9bd7236a22dcfb2b9094429dfb0f05a3"
   }
  }
 },
 "nbformat": 4,
 "nbformat_minor": 2
}
