{
 "cells": [
  {
   "cell_type": "code",
   "execution_count": 5,
   "id": "15fa5e58",
   "metadata": {},
   "outputs": [],
   "source": [
    "import pandas as pd\n",
    "import numpy as np\n",
    "import matplotlib.pyplot as plt\n",
    "from tqdm import tqdm\n",
    "import seaborn as sns\n",
    "tqdm.pandas()"
   ]
  },
  {
   "cell_type": "code",
   "execution_count": 21,
   "id": "960cea8d",
   "metadata": {},
   "outputs": [
    {
     "name": "stdout",
     "output_type": "stream",
     "text": [
      "Number of unique articles being analyzed: 164116\n"
     ]
    }
   ],
   "source": [
    "# df_name = 'us-mar-apr2022.csv'\n",
    "df_name = 'can-apr2020-mar2021.csv'\n",
    "# df_name = 'us-regular-apr2022.csv'\n",
    "predict_df = pd.read_csv('csv/analysis_' + df_name)\n",
    "predict_date = predict_df.date\n",
    "predict_df.date = pd.to_datetime(predict_df.date)\n",
    "print(f'Number of unique articles being analyzed: {predict_df.article_id.nunique()}')"
   ]
  },
  {
   "cell_type": "code",
   "execution_count": 22,
   "id": "03939c18",
   "metadata": {},
   "outputs": [],
   "source": [
    "# df = predict_df[['pairs', 'prediction', 'score']]\n",
    "# df = df.sample(100)\n",
    "# def view(num):\n",
    "#     idx = df.iloc[num]\n",
    "#     print(idx['pairs'])\n",
    "#     print(idx['prediction'])\n",
    "#     print(idx['score'])\n",
    "# view(22)"
   ]
  },
  {
   "cell_type": "code",
   "execution_count": 23,
   "id": "5466847c",
   "metadata": {},
   "outputs": [],
   "source": [
    "def change(x):\n",
    "    if x == 0:\n",
    "        return -1\n",
    "    else:\n",
    "        return 1\n",
    "predict_df['prediction'] = predict_df.prediction.apply(lambda x: change(x))\n",
    "# predict_df['weighted_prediction'] = predict_df['prediction'] * predict_df['score']"
   ]
  },
  {
   "cell_type": "markdown",
   "id": "f27b2e46",
   "metadata": {},
   "source": [
    "**Sentiment based on Publisher and Number of articles published**"
   ]
  },
  {
   "cell_type": "markdown",
   "id": "431d2877",
   "metadata": {},
   "source": [
    "**Sentiment by Page Number**"
   ]
  },
  {
   "cell_type": "code",
   "execution_count": 24,
   "id": "3ddb1eab",
   "metadata": {},
   "outputs": [],
   "source": [
    "page_counts = predict_df.page_num.value_counts()[:50]\n",
    "page_nums = page_counts.index\n",
    "sum_pages = predict_df.groupby('page_num')['prediction'].sum().loc[page_nums]\n",
    "page_num_df = pd.concat((page_counts,sum_pages),axis=1).reset_index(level=0)\n",
    "page_num_df.rename({'index':'page', 'prediction':'page_prediction', 'page_num': 'total_page'}, axis=1, inplace=True)"
   ]
  },
  {
   "cell_type": "markdown",
   "id": "3ac7d72c",
   "metadata": {},
   "source": [
    "**Sentiment by publisher**"
   ]
  },
  {
   "cell_type": "code",
   "execution_count": 25,
   "id": "52bbc4c0",
   "metadata": {},
   "outputs": [],
   "source": [
    "publisher_counts = predict_df.publisher.value_counts()[:50]\n",
    "publisher_name = publisher_counts.index\n",
    "sum_publisher = predict_df.groupby('publisher')['prediction'].sum().loc[publisher_name]\n",
    "publisher_df = pd.concat((publisher_counts,sum_publisher),axis=1).reset_index(level=0)\n",
    "publisher_df.rename({'index':'publisher_name', 'publisher': 'total_published', 'prediction':'publisher_prediction'}, axis=1, inplace=True)"
   ]
  },
  {
   "cell_type": "code",
   "execution_count": 26,
   "id": "e6226e10",
   "metadata": {},
   "outputs": [],
   "source": [
    "publisher_page_df = pd.concat((publisher_df, page_num_df),axis=1)\n",
    "publisher_page_df.to_csv('email_analysis/publisher_page_' + df_name)"
   ]
  },
  {
   "cell_type": "markdown",
   "id": "971ca023",
   "metadata": {},
   "source": [
    "**Number of publications per day**"
   ]
  },
  {
   "cell_type": "code",
   "execution_count": 27,
   "id": "8d782521",
   "metadata": {},
   "outputs": [],
   "source": [
    "num_articles_per_day = predict_df.groupby('date').nunique()['article_id'].reset_index(level=0)\n",
    "num_articles_per_day = num_articles_per_day.rename({'article_id':'articles_per_day'},axis=1)"
   ]
  },
  {
   "cell_type": "code",
   "execution_count": 28,
   "id": "34953fe6",
   "metadata": {},
   "outputs": [],
   "source": [
    "# predict_df = predict_df[predict_df.score > 0.70]"
   ]
  },
  {
   "cell_type": "code",
   "execution_count": 29,
   "id": "d998057a",
   "metadata": {},
   "outputs": [
    {
     "data": {
      "text/plain": [
       "-0.20551549658369786"
      ]
     },
     "execution_count": 29,
     "metadata": {},
     "output_type": "execute_result"
    }
   ],
   "source": [
    "predict_df.prediction.mean()"
   ]
  },
  {
   "cell_type": "code",
   "execution_count": 16,
   "id": "818a6227",
   "metadata": {},
   "outputs": [],
   "source": [
    "# predict_df = predict_df.groupby('date', as_index=False).mean()[['prediction', 'weighted_prediction']]\n",
    "# print(f'Number of unique articles being analyzed: {predict_df.article_id.nunique()}')"
   ]
  },
  {
   "cell_type": "code",
   "execution_count": 30,
   "id": "35d6d392",
   "metadata": {},
   "outputs": [
    {
     "name": "stdout",
     "output_type": "stream",
     "text": [
      "164481\n"
     ]
    },
    {
     "data": {
      "text/plain": [
       "0"
      ]
     },
     "execution_count": 30,
     "metadata": {},
     "output_type": "execute_result"
    }
   ],
   "source": [
    "def pre_explode_merge(df_name):\n",
    "    pre_explode = pd.read_csv('csv/pre_explode_' + df_name)\n",
    "    pre_explode.date = pd.to_datetime(pre_explode.date)    \n",
    "    pre_explode = pre_explode[(pre_explode.date >= predict_date.min()) & (pre_explode.date <= predict_date.max())]\n",
    "    for_comparison = predict_df.article_id.unique()\n",
    "    print(pre_explode.article_id.nunique())\n",
    "    pre_explode = pre_explode[pre_explode.article_id.isin(for_comparison)] # Makes sure pre-explode has all the same articles.\n",
    "    pre_explode = pre_explode.iloc[:, 1:]\n",
    "    return pre_explode\n",
    "\n",
    "pre_explode = pre_explode_merge(df_name)\n",
    "# Make sure this is equal to zero\n",
    "pre_explode.article_id.nunique() - predict_df.article_id.nunique()"
   ]
  },
  {
   "cell_type": "code",
   "execution_count": 31,
   "id": "12d7c86d",
   "metadata": {},
   "outputs": [],
   "source": [
    "df = predict_df.merge(num_articles_per_day, on='date', how='outer')"
   ]
  },
  {
   "cell_type": "code",
   "execution_count": 32,
   "id": "ca2373b1",
   "metadata": {},
   "outputs": [
    {
     "data": {
      "text/plain": [
       "Timestamp('2021-03-31 00:00:00')"
      ]
     },
     "execution_count": 32,
     "metadata": {},
     "output_type": "execute_result"
    }
   ],
   "source": [
    "df.date.max()"
   ]
  },
  {
   "cell_type": "code",
   "execution_count": 33,
   "id": "902ef261",
   "metadata": {},
   "outputs": [],
   "source": [
    "df = df.groupby('date', as_index=False).mean()[['date','prediction', 'articles_per_day']]"
   ]
  },
  {
   "cell_type": "code",
   "execution_count": 34,
   "id": "9a61aea2",
   "metadata": {
    "scrolled": true
   },
   "outputs": [],
   "source": [
    "# # ONLY FOR NEWS TITLES\n",
    "# df = predict_df.groupby('date', as_index=False).mean()\n",
    "# df = df[['date', 'prediction']]"
   ]
  },
  {
   "cell_type": "code",
   "execution_count": 35,
   "id": "b41b22df",
   "metadata": {},
   "outputs": [],
   "source": [
    "# df.prediction.rolling(4, center=True).mean().plot()"
   ]
  },
  {
   "cell_type": "code",
   "execution_count": 36,
   "id": "fd618519",
   "metadata": {},
   "outputs": [
    {
     "data": {
      "text/plain": [
       "<AxesSubplot:>"
      ]
     },
     "execution_count": 36,
     "metadata": {},
     "output_type": "execute_result"
    },
    {
     "data": {
      "image/png": "[encoded data removed]",
      "text/plain": [
       "<Figure size 432x288 with 1 Axes>"
      ]
     },
     "metadata": {
      "needs_background": "light"
     },
     "output_type": "display_data"
    }
   ],
   "source": [
    "df.prediction.plot()"
   ]
  },
  {
   "cell_type": "code",
   "execution_count": 37,
   "id": "4f824607",
   "metadata": {},
   "outputs": [],
   "source": [
    "save_file = 'email_analysis/' + df_name\n",
    "df.to_csv(save_file)"
   ]
  },
  {
   "cell_type": "code",
   "execution_count": 38,
   "id": "b22786a6",
   "metadata": {},
   "outputs": [
    {
     "data": {
      "text/plain": [
       "'email_analysis/can-apr2020-mar2021.csv'"
      ]
     },
     "execution_count": 38,
     "metadata": {},
     "output_type": "execute_result"
    }
   ],
   "source": [
    "save_file"
   ]
  },
  {
   "cell_type": "code",
   "execution_count": null,
   "id": "d88a5dbf",
   "metadata": {},
   "outputs": [],
   "source": []
  }
 ],
 "metadata": {
  "kernelspec": {
   "display_name": "corona",
   "language": "python",
   "name": "corona"
  },
  "language_info": {
   "codemirror_mode": {
    "name": "ipython",
    "version": 3
   },
   "file_extension": ".py",
   "mimetype": "text/x-python",
   "name": "python",
   "nbconvert_exporter": "python",
   "pygments_lexer": "ipython3",
   "version": "3.9.13"
  }
 },
 "nbformat": 4,
 "nbformat_minor": 5
}
