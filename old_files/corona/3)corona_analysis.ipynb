{
 "cells": [
  {
   "cell_type": "code",
   "execution_count": 20,
   "id": "7a94e91c",
   "metadata": {},
   "outputs": [],
   "source": [
    "import pandas as pd\n",
    "import numpy as np\n",
    "import matplotlib.pyplot as plt\n",
    "from tqdm import tqdm\n",
    "import seaborn as sns\n",
    "tqdm.pandas()"
   ]
  },
  {
   "cell_type": "code",
   "execution_count": 22,
   "id": "1494c8e1",
   "metadata": {},
   "outputs": [],
   "source": [
    "# df_name = 'B5_jan-dec2021.csv'\n",
    "# df_name = 'B5_jan-mar2022.csv'\n",
    "# df_name = 'corona_news_sep-mar2022.csv'\n",
    "df_name1 = 'B5_sep-dec2020.csv'\n",
    "df_name2 = 'NS_sep-dec2020.csv'"
   ]
  },
  {
   "cell_type": "code",
   "execution_count": 23,
   "id": "b22bf2f3",
   "metadata": {},
   "outputs": [],
   "source": [
    "predict_df1 = pd.read_csv('csv/analysis_' + df_name1)\n",
    "predict_df2 = pd.read_csv('csv/analysis_' + df_name2)\n",
    "predict_df = pd.concat((predict_df1, predict_df2),axis=0)\n",
    "predict_date = predict_df.date\n",
    "predict_df.date = pd.to_datetime(predict_df.date)"
   ]
  },
  {
   "cell_type": "code",
   "execution_count": 24,
   "id": "51a21fe4",
   "metadata": {},
   "outputs": [],
   "source": [
    "def change(x):\n",
    "    if x == 0:\n",
    "        return -1\n",
    "    else:\n",
    "        return 1\n",
    "predict_df['prediction'] = predict_df.prediction.apply(lambda x: change(x))\n",
    "predict_df['weighted_prediction'] = predict_df['prediction'] * predict_df['score']"
   ]
  },
  {
   "cell_type": "code",
   "execution_count": 25,
   "id": "abb20925",
   "metadata": {},
   "outputs": [],
   "source": [
    "predict_df = predict_df[predict_df.score > 0.80]"
   ]
  },
  {
   "cell_type": "code",
   "execution_count": 26,
   "id": "4783a133",
   "metadata": {},
   "outputs": [
    {
     "name": "stdout",
     "output_type": "stream",
     "text": [
      "Number of unique articles being analyzed: 28800\n"
     ]
    }
   ],
   "source": [
    "predict_df = predict_df.groupby('article_id').mean()[['prediction', 'weighted_prediction']]\n",
    "predict_df.reset_index(level=0, inplace=True)\n",
    "print(f'Number of unique articles being analyzed: {predict_df.article_id.nunique()}')"
   ]
  },
  {
   "cell_type": "code",
   "execution_count": 27,
   "id": "94d5f419",
   "metadata": {},
   "outputs": [],
   "source": [
    "def pre_explode_merge(df_name):\n",
    "    pre_explode1 = pd.read_csv('csv/pre_explode_' + df_name2)\n",
    "    pre_explode2 = pd.read_csv('csv/pre_explode_' + 'B5_sep2020-mar2022.csv') # Fill in for one time. \n",
    "    pre_explode = pd.concat((pre_explode1,pre_explode2),axis=0)\n",
    "    \n",
    "    pre_explode.dropna(inplace=True)\n",
    "    pre_explode.date = pd.to_datetime(pre_explode.date)    \n",
    "    pre_explode = pre_explode[(pre_explode.date >= predict_date.min()) & (pre_explode.date <= predict_date.max())]\n",
    "    for_comparison = predict_df.article_id.unique()\n",
    "    pre_explode = pre_explode[pre_explode.article_id.isin(for_comparison)] # Makes sure pre-explode has all the same articles.\n",
    "    pre_explode.drop(pre_explode.columns[:1],axis=1,inplace=True)\n",
    "    return pre_explode"
   ]
  },
  {
   "cell_type": "code",
   "execution_count": 28,
   "id": "91af62c0",
   "metadata": {},
   "outputs": [],
   "source": [
    "pre_explode = pre_explode_merge(df_name1)"
   ]
  },
  {
   "cell_type": "code",
   "execution_count": 29,
   "id": "dd182c5a",
   "metadata": {},
   "outputs": [
    {
     "data": {
      "text/plain": [
       "0"
      ]
     },
     "execution_count": 29,
     "metadata": {},
     "output_type": "execute_result"
    }
   ],
   "source": [
    "# Make sure this is equal to zero\n",
    "pre_explode.article_id.nunique() - predict_df.article_id.nunique()"
   ]
  },
  {
   "cell_type": "code",
   "execution_count": 30,
   "id": "11b769b1",
   "metadata": {},
   "outputs": [],
   "source": [
    "df = predict_df.merge(pre_explode, on='article_id')"
   ]
  },
  {
   "cell_type": "code",
   "execution_count": 31,
   "id": "31a59d7d",
   "metadata": {},
   "outputs": [
    {
     "data": {
      "text/html": [
       "<div>\n",
       "<style scoped>\n",
       "    .dataframe tbody tr th:only-of-type {\n",
       "        vertical-align: middle;\n",
       "    }\n",
       "\n",
       "    .dataframe tbody tr th {\n",
       "        vertical-align: top;\n",
       "    }\n",
       "\n",
       "    .dataframe thead th {\n",
       "        text-align: right;\n",
       "    }\n",
       "</style>\n",
       "<table border=\"1\" class=\"dataframe\">\n",
       "  <thead>\n",
       "    <tr style=\"text-align: right;\">\n",
       "      <th></th>\n",
       "      <th>date</th>\n",
       "      <th>prediction</th>\n",
       "      <th>weighted_prediction</th>\n",
       "    </tr>\n",
       "  </thead>\n",
       "  <tbody>\n",
       "    <tr>\n",
       "      <th>0</th>\n",
       "      <td>2020-09-01</td>\n",
       "      <td>-0.198547</td>\n",
       "      <td>-0.201171</td>\n",
       "    </tr>\n",
       "    <tr>\n",
       "      <th>1</th>\n",
       "      <td>2020-09-02</td>\n",
       "      <td>-0.212272</td>\n",
       "      <td>-0.213734</td>\n",
       "    </tr>\n",
       "    <tr>\n",
       "      <th>2</th>\n",
       "      <td>2020-09-03</td>\n",
       "      <td>-0.187986</td>\n",
       "      <td>-0.189249</td>\n",
       "    </tr>\n",
       "    <tr>\n",
       "      <th>3</th>\n",
       "      <td>2020-09-04</td>\n",
       "      <td>-0.250412</td>\n",
       "      <td>-0.249771</td>\n",
       "    </tr>\n",
       "    <tr>\n",
       "      <th>4</th>\n",
       "      <td>2020-09-05</td>\n",
       "      <td>-0.277693</td>\n",
       "      <td>-0.276330</td>\n",
       "    </tr>\n",
       "    <tr>\n",
       "      <th>...</th>\n",
       "      <td>...</td>\n",
       "      <td>...</td>\n",
       "      <td>...</td>\n",
       "    </tr>\n",
       "    <tr>\n",
       "      <th>117</th>\n",
       "      <td>2020-12-27</td>\n",
       "      <td>-0.222319</td>\n",
       "      <td>-0.225316</td>\n",
       "    </tr>\n",
       "    <tr>\n",
       "      <th>118</th>\n",
       "      <td>2020-12-28</td>\n",
       "      <td>-0.245833</td>\n",
       "      <td>-0.248244</td>\n",
       "    </tr>\n",
       "    <tr>\n",
       "      <th>119</th>\n",
       "      <td>2020-12-29</td>\n",
       "      <td>-0.263309</td>\n",
       "      <td>-0.263561</td>\n",
       "    </tr>\n",
       "    <tr>\n",
       "      <th>120</th>\n",
       "      <td>2020-12-30</td>\n",
       "      <td>-0.151042</td>\n",
       "      <td>-0.153904</td>\n",
       "    </tr>\n",
       "    <tr>\n",
       "      <th>121</th>\n",
       "      <td>2020-12-31</td>\n",
       "      <td>-0.216949</td>\n",
       "      <td>-0.217423</td>\n",
       "    </tr>\n",
       "  </tbody>\n",
       "</table>\n",
       "<p>122 rows × 3 columns</p>\n",
       "</div>"
      ],
      "text/plain": [
       "          date  prediction  weighted_prediction\n",
       "0   2020-09-01   -0.198547            -0.201171\n",
       "1   2020-09-02   -0.212272            -0.213734\n",
       "2   2020-09-03   -0.187986            -0.189249\n",
       "3   2020-09-04   -0.250412            -0.249771\n",
       "4   2020-09-05   -0.277693            -0.276330\n",
       "..         ...         ...                  ...\n",
       "117 2020-12-27   -0.222319            -0.225316\n",
       "118 2020-12-28   -0.245833            -0.248244\n",
       "119 2020-12-29   -0.263309            -0.263561\n",
       "120 2020-12-30   -0.151042            -0.153904\n",
       "121 2020-12-31   -0.216949            -0.217423\n",
       "\n",
       "[122 rows x 3 columns]"
      ]
     },
     "execution_count": 31,
     "metadata": {},
     "output_type": "execute_result"
    }
   ],
   "source": [
    "df = df.groupby('date').mean().reset_index(level=0)\n",
    "df"
   ]
  },
  {
   "cell_type": "code",
   "execution_count": 32,
   "id": "b3f77c1a",
   "metadata": {},
   "outputs": [],
   "source": [
    "save_file = 'email_analysis/' + df_name2\n",
    "df.to_csv(save_file)"
   ]
  },
  {
   "cell_type": "code",
   "execution_count": 33,
   "id": "13563d89",
   "metadata": {},
   "outputs": [
    {
     "data": {
      "text/plain": [
       "'email_analysis/NS_sep-dec2020.csv'"
      ]
     },
     "execution_count": 33,
     "metadata": {},
     "output_type": "execute_result"
    }
   ],
   "source": [
    "save_file"
   ]
  },
  {
   "cell_type": "code",
   "execution_count": null,
   "id": "420a7092",
   "metadata": {},
   "outputs": [],
   "source": []
  }
 ],
 "metadata": {
  "kernelspec": {
   "display_name": "corona",
   "language": "python",
   "name": "corona"
  },
  "language_info": {
   "codemirror_mode": {
    "name": "ipython",
    "version": 3
   },
   "file_extension": ".py",
   "mimetype": "text/x-python",
   "name": "python",
   "nbconvert_exporter": "python",
   "pygments_lexer": "ipython3",
   "version": "3.9.12"
  }
 },
 "nbformat": 4,
 "nbformat_minor": 5
}
