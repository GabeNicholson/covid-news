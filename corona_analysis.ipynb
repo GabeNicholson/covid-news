{
 "cells": [
  {
   "cell_type": "code",
   "execution_count": null,
   "id": "0edde1ef",
   "metadata": {},
   "outputs": [],
   "source": [
    "import pandas as pd\n",
    "import numpy as np\n",
    "import matplotlib.pyplot as plt\n",
    "from tqdm import tqdm\n",
    "import seaborn as sns\n",
    "tqdm.pandas()\n",
    "%matplotlib inline"
   ]
  },
  {
   "cell_type": "code",
   "execution_count": null,
   "id": "8ac3d2fd",
   "metadata": {},
   "outputs": [],
   "source": [
    "# df_name = 'us_covid_april_2021-april_2022_(2022-09-26).parquet'\n",
    "# df_name = 'eur_covid_april_2021-april_2022_(2022-10-06).parquet'\n",
    "\n",
    "df_name_1 = \"eur_covid_april_2021-april_2022_(2022-10-06).parquet\"\n",
    "df_name_2 = \"eur_covid_mar_2020-april_2021_(2022-10-04).parquet\""
   ]
  },
  {
   "cell_type": "code",
   "execution_count": null,
   "id": "f893b138",
   "metadata": {},
   "outputs": [],
   "source": [
    "df = pd.read_parquet(f'comp_files/analysis_{df_name}', \n",
    "                             columns=['article_id', 'date', 'publisher', 'title', 'page_num', 'source_type',\n",
    "                               'city', 'author', 'LexileScore', 'prediction'])\n",
    "print(f'Number of unique articles being analyzed: {df.article_id.nunique()}')"
   ]
  },
  {
   "cell_type": "code",
   "execution_count": 3,
   "id": "77c54687",
   "metadata": {},
   "outputs": [
    {
     "name": "stdout",
     "output_type": "stream",
     "text": [
      "Number of unique articles being analyzed: 104330\n"
     ]
    }
   ],
   "source": [
    "df1 = pd.read_parquet(f'comp_files/analysis_{df_name_1}', \n",
    "                             columns=['article_id', 'date', 'publisher', 'title', 'page_num', 'source_type',\n",
    "                               'city', 'author', 'LexileScore', 'prediction'])\n",
    "print(f'Number of unique articles being analyzed: {df1.article_id.nunique()}')"
   ]
  },
  {
   "cell_type": "code",
   "execution_count": 4,
   "id": "ccbec954",
   "metadata": {},
   "outputs": [
    {
     "name": "stdout",
     "output_type": "stream",
     "text": [
      "Number of unique articles being analyzed: 185844\n"
     ]
    }
   ],
   "source": [
    "df2 = pd.read_parquet(f'comp_files/analysis_{df_name_2}', \n",
    "                             columns=['article_id', 'date', 'publisher', 'title', 'page_num', 'source_type',\n",
    "                               'city', 'author', 'LexileScore', 'prediction'])\n",
    "print(f'Number of unique articles being analyzed: {df2.article_id.nunique()}')"
   ]
  },
  {
   "cell_type": "code",
   "execution_count": 5,
   "id": "dee42591",
   "metadata": {},
   "outputs": [],
   "source": [
    "full_df = pd.concat([df1, df2], ignore_index=True)"
   ]
  },
  {
   "cell_type": "code",
   "execution_count": 6,
   "id": "5f9b2532",
   "metadata": {},
   "outputs": [
    {
     "data": {
      "text/html": [
       "<div>\n",
       "<style scoped>\n",
       "    .dataframe tbody tr th:only-of-type {\n",
       "        vertical-align: middle;\n",
       "    }\n",
       "\n",
       "    .dataframe tbody tr th {\n",
       "        vertical-align: top;\n",
       "    }\n",
       "\n",
       "    .dataframe thead th {\n",
       "        text-align: right;\n",
       "    }\n",
       "</style>\n",
       "<table border=\"1\" class=\"dataframe\">\n",
       "  <thead>\n",
       "    <tr style=\"text-align: right;\">\n",
       "      <th></th>\n",
       "      <th>article_id</th>\n",
       "      <th>date</th>\n",
       "      <th>publisher</th>\n",
       "      <th>title</th>\n",
       "      <th>page_num</th>\n",
       "      <th>source_type</th>\n",
       "      <th>city</th>\n",
       "      <th>author</th>\n",
       "      <th>LexileScore</th>\n",
       "      <th>prediction</th>\n",
       "    </tr>\n",
       "  </thead>\n",
       "  <tbody>\n",
       "    <tr>\n",
       "      <th>0</th>\n",
       "      <td>2549006707.xml</td>\n",
       "      <td>2021-07-07</td>\n",
       "      <td>Guardian (Online) The</td>\n",
       "      <td>Ditching Covid restrictions now goes against a...</td>\n",
       "      <td>n/a</td>\n",
       "      <td>Web Resources</td>\n",
       "      <td>London (UK)</td>\n",
       "      <td>None</td>\n",
       "      <td>1530</td>\n",
       "      <td>0</td>\n",
       "    </tr>\n",
       "    <tr>\n",
       "      <th>1</th>\n",
       "      <td>2549006707.xml</td>\n",
       "      <td>2021-07-07</td>\n",
       "      <td>Guardian (Online) The</td>\n",
       "      <td>Ditching Covid restrictions now goes against a...</td>\n",
       "      <td>n/a</td>\n",
       "      <td>Web Resources</td>\n",
       "      <td>London (UK)</td>\n",
       "      <td>None</td>\n",
       "      <td>1530</td>\n",
       "      <td>0</td>\n",
       "    </tr>\n",
       "    <tr>\n",
       "      <th>2</th>\n",
       "      <td>2549006707.xml</td>\n",
       "      <td>2021-07-07</td>\n",
       "      <td>Guardian (Online) The</td>\n",
       "      <td>Ditching Covid restrictions now goes against a...</td>\n",
       "      <td>n/a</td>\n",
       "      <td>Web Resources</td>\n",
       "      <td>London (UK)</td>\n",
       "      <td>None</td>\n",
       "      <td>1530</td>\n",
       "      <td>0</td>\n",
       "    </tr>\n",
       "    <tr>\n",
       "      <th>3</th>\n",
       "      <td>2549006707.xml</td>\n",
       "      <td>2021-07-07</td>\n",
       "      <td>Guardian (Online) The</td>\n",
       "      <td>Ditching Covid restrictions now goes against a...</td>\n",
       "      <td>n/a</td>\n",
       "      <td>Web Resources</td>\n",
       "      <td>London (UK)</td>\n",
       "      <td>None</td>\n",
       "      <td>1530</td>\n",
       "      <td>0</td>\n",
       "    </tr>\n",
       "    <tr>\n",
       "      <th>4</th>\n",
       "      <td>2549006707.xml</td>\n",
       "      <td>2021-07-07</td>\n",
       "      <td>Guardian (Online) The</td>\n",
       "      <td>Ditching Covid restrictions now goes against a...</td>\n",
       "      <td>n/a</td>\n",
       "      <td>Web Resources</td>\n",
       "      <td>London (UK)</td>\n",
       "      <td>None</td>\n",
       "      <td>1530</td>\n",
       "      <td>1</td>\n",
       "    </tr>\n",
       "  </tbody>\n",
       "</table>\n",
       "</div>"
      ],
      "text/plain": [
       "       article_id       date              publisher  \\\n",
       "0  2549006707.xml 2021-07-07  Guardian (Online) The   \n",
       "1  2549006707.xml 2021-07-07  Guardian (Online) The   \n",
       "2  2549006707.xml 2021-07-07  Guardian (Online) The   \n",
       "3  2549006707.xml 2021-07-07  Guardian (Online) The   \n",
       "4  2549006707.xml 2021-07-07  Guardian (Online) The   \n",
       "\n",
       "                                               title page_num    source_type  \\\n",
       "0  Ditching Covid restrictions now goes against a...      n/a  Web Resources   \n",
       "1  Ditching Covid restrictions now goes against a...      n/a  Web Resources   \n",
       "2  Ditching Covid restrictions now goes against a...      n/a  Web Resources   \n",
       "3  Ditching Covid restrictions now goes against a...      n/a  Web Resources   \n",
       "4  Ditching Covid restrictions now goes against a...      n/a  Web Resources   \n",
       "\n",
       "          city author  LexileScore  prediction  \n",
       "0  London (UK)   None         1530           0  \n",
       "1  London (UK)   None         1530           0  \n",
       "2  London (UK)   None         1530           0  \n",
       "3  London (UK)   None         1530           0  \n",
       "4  London (UK)   None         1530           1  "
      ]
     },
     "execution_count": 6,
     "metadata": {},
     "output_type": "execute_result"
    }
   ],
   "source": [
    "full_df.head()"
   ]
  },
  {
   "cell_type": "code",
   "execution_count": 7,
   "id": "e7d2853c",
   "metadata": {},
   "outputs": [],
   "source": [
    "full_df['publisher'] = full_df['publisher'].astype('category')"
   ]
  },
  {
   "cell_type": "code",
   "execution_count": 8,
   "id": "f04905c4",
   "metadata": {},
   "outputs": [],
   "source": [
    "full_df['article_id'] = pd.factorize(full_df['article_id'])[0]"
   ]
  },
  {
   "cell_type": "code",
   "execution_count": 9,
   "id": "4a5eb3f8",
   "metadata": {},
   "outputs": [],
   "source": [
    "full_df['article_id'] = full_df['article_id'].astype('int32')"
   ]
  },
  {
   "cell_type": "code",
   "execution_count": 10,
   "id": "85443aa3",
   "metadata": {},
   "outputs": [],
   "source": [
    "full_df['prediction'] = full_df['prediction'].astype('int8')"
   ]
  },
  {
   "cell_type": "code",
   "execution_count": 11,
   "id": "65e6e024",
   "metadata": {},
   "outputs": [],
   "source": [
    "full_df = full_df.drop(columns=['title', 'city', 'source_type', 'author', 'LexileScore'])"
   ]
  },
  {
   "cell_type": "code",
   "execution_count": 12,
   "id": "cc72f5cf",
   "metadata": {},
   "outputs": [],
   "source": [
    "full_df['page_num'] = full_df['page_num'].astype('category')"
   ]
  },
  {
   "cell_type": "code",
   "execution_count": 13,
   "id": "29685775",
   "metadata": {},
   "outputs": [],
   "source": [
    "full_df.to_parquet('email_analysis/eur_full_covid.parquet', index=False, compression='brotli')"
   ]
  },
  {
   "cell_type": "code",
   "execution_count": null,
   "id": "93602a4c",
   "metadata": {},
   "outputs": [],
   "source": [
    "bruce = pd.DataFrame(full_df.publisher.value_counts()[:50])"
   ]
  },
  {
   "cell_type": "code",
   "execution_count": null,
   "id": "fb52d6c8",
   "metadata": {},
   "outputs": [],
   "source": [
    "bruce['ideology'] = ''"
   ]
  },
  {
   "cell_type": "code",
   "execution_count": null,
   "id": "326187cb",
   "metadata": {},
   "outputs": [],
   "source": [
    "bruce.drop('publisher', axis=1, inplace=True)"
   ]
  },
  {
   "cell_type": "code",
   "execution_count": null,
   "id": "863020f2",
   "metadata": {},
   "outputs": [],
   "source": [
    "bruce.to_csv('email_analysis/us_bruce_publishers.csv')"
   ]
  },
  {
   "cell_type": "code",
   "execution_count": null,
   "id": "af2b1ab6",
   "metadata": {},
   "outputs": [],
   "source": [
    "pd.read_csv('email_analysis/us_bruce_publishers.csv')"
   ]
  },
  {
   "cell_type": "code",
   "execution_count": null,
   "id": "c12c40aa",
   "metadata": {},
   "outputs": [],
   "source": [
    "editorial_df = pd.read_csv('csv/pre_explode_us_news_commentary.csv')"
   ]
  },
  {
   "cell_type": "code",
   "execution_count": null,
   "id": "d3c3ed4f",
   "metadata": {},
   "outputs": [],
   "source": [
    "compare_dfs = pd.read_csv('csv/analysis_us_news_apr2020-mar-2021.csv')"
   ]
  },
  {
   "cell_type": "code",
   "execution_count": null,
   "id": "bcbe7da3",
   "metadata": {},
   "outputs": [],
   "source": [
    "compare_dfs.publisher.value_counts()"
   ]
  },
  {
   "cell_type": "code",
   "execution_count": null,
   "id": "186b4df2",
   "metadata": {},
   "outputs": [],
   "source": [
    "np.sum(compare_dfs.article_id.isin(df['article_id'])) / len(compare_dfs)"
   ]
  },
  {
   "cell_type": "code",
   "execution_count": null,
   "id": "aa1b6fa7",
   "metadata": {},
   "outputs": [],
   "source": [
    "compare_dfs['article_id']"
   ]
  },
  {
   "cell_type": "code",
   "execution_count": null,
   "id": "fcdc5de2",
   "metadata": {},
   "outputs": [],
   "source": []
  },
  {
   "cell_type": "code",
   "execution_count": null,
   "id": "75c9d99e",
   "metadata": {},
   "outputs": [],
   "source": []
  },
  {
   "cell_type": "code",
   "execution_count": null,
   "id": "e4b4c3cf",
   "metadata": {},
   "outputs": [],
   "source": [
    "df['article_id'].isin(editorial_df['article_id'])"
   ]
  },
  {
   "cell_type": "code",
   "execution_count": null,
   "id": "122de42c",
   "metadata": {},
   "outputs": [],
   "source": [
    "df.columns"
   ]
  },
  {
   "cell_type": "code",
   "execution_count": null,
   "id": "4fed2211",
   "metadata": {},
   "outputs": [],
   "source": [
    "df['prediction'] = np.where(df['prediction'] == 0, -1, 1)"
   ]
  },
  {
   "cell_type": "code",
   "execution_count": null,
   "id": "084fc6c4",
   "metadata": {},
   "outputs": [],
   "source": [
    "first_groupby = {col_name:'first' for col_name in df.columns if col_name not in ['LexileScore', 'prediction']}\n",
    "first_groupby['prediction'] = 'mean'\n",
    "first_groupby['LexileScore'] = 'mean'"
   ]
  },
  {
   "cell_type": "code",
   "execution_count": null,
   "id": "36a27956",
   "metadata": {},
   "outputs": [],
   "source": [
    "# df = df.groupby('article_id').agg(first_groupby).groupby('date').agg(first_groupby)\n",
    "article_grouped_df = df.groupby('article_id').agg(first_groupby)"
   ]
  },
  {
   "cell_type": "code",
   "execution_count": null,
   "id": "c2736c3b",
   "metadata": {},
   "outputs": [],
   "source": [
    "len(editorial_df)"
   ]
  },
  {
   "cell_type": "code",
   "execution_count": null,
   "id": "2ead82e8",
   "metadata": {},
   "outputs": [],
   "source": [
    "article_grouped_df['is_oped'] = np.where(article_grouped_df['article_id'].isin(editorial_df['article_id']), True, False)"
   ]
  },
  {
   "cell_type": "code",
   "execution_count": null,
   "id": "eab36a9a",
   "metadata": {},
   "outputs": [],
   "source": [
    "df = article_grouped_df.groupby('date').agg(first_groupby)"
   ]
  },
  {
   "cell_type": "code",
   "execution_count": null,
   "id": "b56ca078",
   "metadata": {},
   "outputs": [],
   "source": [
    "df.head()"
   ]
  },
  {
   "cell_type": "code",
   "execution_count": null,
   "id": "b05e4ffd",
   "metadata": {},
   "outputs": [],
   "source": [
    "df.city.value_counts()"
   ]
  },
  {
   "cell_type": "code",
   "execution_count": null,
   "id": "cdd377f1",
   "metadata": {},
   "outputs": [],
   "source": [
    "relevant_page_numbers = first_df.page_num.value_counts()[:10].index"
   ]
  },
  {
   "cell_type": "code",
   "execution_count": null,
   "id": "4e51f629",
   "metadata": {},
   "outputs": [],
   "source": [
    "rel_page_df = first_df[first_df['page_num'].isin(relevant_page_numbers)].copy()"
   ]
  },
  {
   "cell_type": "code",
   "execution_count": null,
   "id": "87660ad0",
   "metadata": {},
   "outputs": [],
   "source": [
    "rel_page_df.groupby('page_num')['prediction'].mean().sort_values()"
   ]
  },
  {
   "cell_type": "code",
   "execution_count": null,
   "id": "b8f7609f",
   "metadata": {
    "scrolled": true
   },
   "outputs": [],
   "source": [
    "rel_page_df.groupby('page_num')['prediction'].mean().sort_values()"
   ]
  },
  {
   "cell_type": "code",
   "execution_count": null,
   "id": "d5dbe272",
   "metadata": {},
   "outputs": [],
   "source": [
    "rel_page_df['is_front_page'] = rel_page_df['page_num'].isin(['A.1', '1'])\n",
    "first_df['is_front_page'] = first_df['page_num'].isin(['A.1', '1'])"
   ]
  },
  {
   "cell_type": "code",
   "execution_count": null,
   "id": "ceb3eb2f",
   "metadata": {},
   "outputs": [],
   "source": [
    "first_page_timeseries = rel_page_df[rel_page_df['is_front_page'] == True].groupby('date')['is_front_page'].count() / rel_page_df.groupby('date')['is_front_page'].count()\n",
    "first_page_timeseries = first_df[first_df['is_front_page'] == True].groupby('date')['is_front_page'].count() / first_df[first_df['is_front_page'] == False].groupby('date')['is_front_page'].count()"
   ]
  },
  {
   "cell_type": "code",
   "execution_count": null,
   "id": "df3cee9a",
   "metadata": {},
   "outputs": [],
   "source": [
    "first_page_timeseries.rolling(5, win_type='gaussian',center=False,).mean(std=2).plot()"
   ]
  },
  {
   "cell_type": "markdown",
   "id": "6f8d9b21",
   "metadata": {},
   "source": [
    "We want to get the relative number of front page articles being published compared overtime since all publication numbers went down during the end of omicron wave."
   ]
  },
  {
   "cell_type": "code",
   "execution_count": null,
   "id": "02471746",
   "metadata": {},
   "outputs": [],
   "source": [
    "# front_page_df.groupby(['date', 'page_num']).count()['article_id'].plot()"
   ]
  },
  {
   "cell_type": "code",
   "execution_count": null,
   "id": "85b4c633",
   "metadata": {},
   "outputs": [],
   "source": [
    "df.prediction.plot()"
   ]
  },
  {
   "cell_type": "code",
   "execution_count": null,
   "id": "7b36b21e",
   "metadata": {},
   "outputs": [],
   "source": [
    "df = df.set_index(['date', 'article_id']).groupby(level=0).mean()"
   ]
  },
  {
   "cell_type": "code",
   "execution_count": null,
   "id": "26993d5b",
   "metadata": {},
   "outputs": [],
   "source": [
    "df['prediction'].mean()"
   ]
  },
  {
   "cell_type": "code",
   "execution_count": null,
   "id": "a98af225",
   "metadata": {},
   "outputs": [],
   "source": [
    "grouped_df = predict_df.groupby(['article_id']).mean()"
   ]
  },
  {
   "cell_type": "code",
   "execution_count": null,
   "id": "13d0743d",
   "metadata": {},
   "outputs": [],
   "source": [
    "date_row = predict_df.groupby(['article_id'])['date'].first()"
   ]
  },
  {
   "cell_type": "code",
   "execution_count": null,
   "id": "9470adf2",
   "metadata": {},
   "outputs": [],
   "source": [
    "new = pd.concat([grouped_df, date_row], axis=1)"
   ]
  },
  {
   "cell_type": "code",
   "execution_count": null,
   "id": "de864d99",
   "metadata": {},
   "outputs": [],
   "source": [
    "new.groupby('date').mean()['prediction'].min()"
   ]
  },
  {
   "cell_type": "code",
   "execution_count": null,
   "id": "7f62d104",
   "metadata": {},
   "outputs": [],
   "source": [
    "np.sum(predict_df.groupby('article_id')['prediction'].mean() > 0) / predict_df.article_id.nunique()"
   ]
  },
  {
   "cell_type": "code",
   "execution_count": null,
   "id": "06fb8734",
   "metadata": {},
   "outputs": [],
   "source": [
    "np.sum(predict_df.groupby('article_id')['prediction'].mean() > 0) / predict_df.article_id.nunique()"
   ]
  },
  {
   "cell_type": "markdown",
   "id": "cb11dc57",
   "metadata": {},
   "source": [
    "**Sentiment based on Publisher and Number of articles published**"
   ]
  },
  {
   "cell_type": "markdown",
   "id": "4057df9f",
   "metadata": {},
   "source": [
    "**Sentiment by Page Number**"
   ]
  },
  {
   "cell_type": "code",
   "execution_count": null,
   "id": "ab6ee1ee",
   "metadata": {},
   "outputs": [],
   "source": [
    "page_counts = predict_df.page_num.value_counts()[:50]\n",
    "page_nums = page_counts.index\n",
    "sum_pages = predict_df.groupby('page_num')['prediction'].sum().loc[page_nums]\n",
    "page_num_df = pd.concat((page_counts,sum_pages),axis=1).reset_index(level=0)\n",
    "page_num_df.rename({'index':'page', 'prediction':'page_prediction', 'page_num': 'total_page'}, axis=1, inplace=True)"
   ]
  },
  {
   "cell_type": "markdown",
   "id": "ff64903e",
   "metadata": {},
   "source": [
    "**Sentiment by publisher**"
   ]
  },
  {
   "cell_type": "code",
   "execution_count": null,
   "id": "0df27014",
   "metadata": {},
   "outputs": [],
   "source": [
    "publisher_counts = predict_df.publisher.value_counts()[:50]\n",
    "publisher_name = publisher_counts.index\n",
    "sum_publisher = predict_df.groupby('publisher')['prediction'].sum().loc[publisher_name]\n",
    "publisher_df = pd.concat((publisher_counts,sum_publisher),axis=1).reset_index(level=0)\n",
    "publisher_df.rename({'index':'publisher_name', 'publisher': 'total_published', 'prediction':'publisher_prediction'}, axis=1, inplace=True)"
   ]
  },
  {
   "cell_type": "code",
   "execution_count": null,
   "id": "420d7669",
   "metadata": {},
   "outputs": [],
   "source": [
    "publisher_page_df = pd.concat((publisher_df, page_num_df),axis=1)\n",
    "publisher_page_df.to_parquet('email_analysis/publisher_page_' + df_name)"
   ]
  },
  {
   "cell_type": "markdown",
   "id": "cb8e415f",
   "metadata": {},
   "source": [
    "**Number of publications per day**"
   ]
  },
  {
   "cell_type": "code",
   "execution_count": null,
   "id": "344c08a5",
   "metadata": {},
   "outputs": [],
   "source": [
    "num_articles_per_day = predict_df.groupby('date').nunique()['article_id'].reset_index(level=0)\n",
    "num_articles_per_day = num_articles_per_day.rename({'article_id':'articles_per_day'},axis=1)"
   ]
  },
  {
   "cell_type": "code",
   "execution_count": null,
   "id": "48d2d6f5",
   "metadata": {},
   "outputs": [],
   "source": [
    "predict_df.prediction.mean()"
   ]
  },
  {
   "cell_type": "code",
   "execution_count": null,
   "id": "b3ce2503",
   "metadata": {},
   "outputs": [],
   "source": [
    "df = predict_df.merge(num_articles_per_day, on='date', how='outer')"
   ]
  },
  {
   "cell_type": "code",
   "execution_count": null,
   "id": "f51c2d86",
   "metadata": {},
   "outputs": [],
   "source": [
    "df.date.max()"
   ]
  },
  {
   "cell_type": "code",
   "execution_count": null,
   "id": "167cea3e",
   "metadata": {},
   "outputs": [],
   "source": [
    "df = df.groupby('date', as_index=False)[['date','prediction', 'articles_per_day']].mean()"
   ]
  },
  {
   "cell_type": "code",
   "execution_count": null,
   "id": "94a44f5a",
   "metadata": {
    "scrolled": true
   },
   "outputs": [],
   "source": [
    "# # ONLY FOR NEWS TITLES\n",
    "# df = predict_df.groupby('date', as_index=False).mean()\n",
    "# df = df[['date', 'prediction']]"
   ]
  },
  {
   "cell_type": "code",
   "execution_count": null,
   "id": "b5456f92",
   "metadata": {},
   "outputs": [],
   "source": [
    "df.head(10)"
   ]
  },
  {
   "cell_type": "code",
   "execution_count": null,
   "id": "5b2387c4",
   "metadata": {},
   "outputs": [],
   "source": [
    "save_file = 'email_analysis/' + df_name_csv\n",
    "df.to_csv(save_file, index=False)"
   ]
  },
  {
   "cell_type": "code",
   "execution_count": null,
   "id": "a35fc496",
   "metadata": {},
   "outputs": [],
   "source": [
    "save_file"
   ]
  },
  {
   "cell_type": "code",
   "execution_count": null,
   "id": "ce24c6ad",
   "metadata": {},
   "outputs": [],
   "source": [
    "predict_df.date.max()"
   ]
  },
  {
   "cell_type": "code",
   "execution_count": null,
   "id": "e061d999",
   "metadata": {},
   "outputs": [],
   "source": []
  }
 ],
 "metadata": {
  "kernelspec": {
   "display_name": "covid-prod",
   "language": "python",
   "name": "covid-prod"
  },
  "language_info": {
   "codemirror_mode": {
    "name": "ipython",
    "version": 3
   },
   "file_extension": ".py",
   "mimetype": "text/x-python",
   "name": "python",
   "nbconvert_exporter": "python",
   "pygments_lexer": "ipython3",
   "version": "3.8.13"
  }
 },
 "nbformat": 4,
 "nbformat_minor": 5
}
