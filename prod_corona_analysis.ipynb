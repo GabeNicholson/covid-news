{
 "cells": [
  {
   "cell_type": "code",
   "execution_count": null,
   "id": "0edde1ef",
   "metadata": {},
   "outputs": [],
   "source": [
    "import pandas as pd\n",
    "import numpy as np\n",
    "# import matplotlib.pyplot as plt\n",
    "# from tqdm import tqdm\n",
    "# import seaborn as sns\n",
    "# tqdm.pandas()\n",
    "# %matplotlib inline"
   ]
  },
  {
   "cell_type": "code",
   "execution_count": null,
   "id": "8ac3d2fd",
   "metadata": {},
   "outputs": [],
   "source": [
    "df_name = 'us_covid_april_2021-april_2022_(2022-09-26).parquet'\n",
    "# df_name = 'eur_covid_april_2021-april_2022_(2022-10-06).parquet'\n",
    "\n",
    "df_name_1 = \"eur_covid_april_2021-april_2022_(2022-10-06).parquet\"\n",
    "df_name_2 = \"eur_covid_mar_2020-april_2021_(2022-10-04).parquet\""
   ]
  },
  {
   "cell_type": "code",
   "execution_count": null,
   "id": "f893b138",
   "metadata": {},
   "outputs": [],
   "source": [
    "df = pd.read_parquet(f'comp_files/analysis_{df_name}', \n",
    "                             columns=['article_id', 'date', 'publisher', 'title', 'page_num', 'source_type',\n",
    "                               'city', 'author', 'LexileScore', 'prediction'])\n",
    "print(f'Number of unique articles being analyzed: {df.article_id.nunique()}')"
   ]
  },
  {
   "cell_type": "code",
   "execution_count": 4,
   "id": "ccbec954",
   "metadata": {},
   "outputs": [
    {
     "name": "stdout",
     "output_type": "stream",
     "text": [
      "Number of unique articles being analyzed: 185844\n"
     ]
    }
   ],
   "source": [
    "df1 = pd.read_parquet(f'comp_files/analysis_{df_name_1}', \n",
    "                             columns=['article_id', 'date', 'publisher', 'title', 'page_num', 'source_type',\n",
    "                               'city', 'author', 'LexileScore', 'prediction'])\n",
    "print(f'Number of unique articles being analyzed: {df1.article_id.nunique()}')\n",
    "\n",
    "df2 = pd.read_parquet(f'comp_files/analysis_{df_name_2}', \n",
    "                             columns=['article_id', 'date', 'publisher', 'title', 'page_num', 'source_type',\n",
    "                               'city', 'author', 'LexileScore', 'prediction'])\n",
    "print(f'Number of unique articles being analyzed: {df2.article_id.nunique()}')\n",
    "\n",
    "full_df = pd.concat([df1, df2], ignore_index=True)\n",
    "\n",
    "def shrink_df_size(dataframe):\n",
    "    dataframe['article_id'] = pd.factorize(dataframe['article_id'])[0]\n",
    "    dataframe['article_id'] = dataframe['article_id'].astype('int32')\n",
    "    dataframe['prediction'] = dataframe['prediction'].astype('int8')\n",
    "    dataframe['page_num'] = dataframe['page_num'].astype('category')\n",
    "    dataframe = dataframe.drop(columns=['title', 'city', 'source_type', 'author', 'LexileScore'])\n",
    "    return dataframe\n",
    "\n",
    "full_df = shrink_df_size(full_df)"
   ]
  },
  {
   "cell_type": "code",
   "execution_count": null,
   "id": "f0c66337",
   "metadata": {},
   "outputs": [],
   "source": [
    "file_name = \"us_full_covid.parquet\"\n",
    "\n",
    "full_df.to_parquet(f'email_analysis/{file_name}', index=False, compression='brotli')"
   ]
  },
  {
   "cell_type": "code",
   "execution_count": 13,
   "id": "29685775",
   "metadata": {},
   "outputs": [],
   "source": []
  },
  {
   "cell_type": "markdown",
   "id": "3e20e341",
   "metadata": {},
   "source": [
    "# Testing Section"
   ]
  },
  {
   "cell_type": "markdown",
   "id": "6f8d9b21",
   "metadata": {},
   "source": [
    "We want to get the relative number of front page articles being published compared overtime since all publication numbers went down during the end of omicron wave."
   ]
  },
  {
   "cell_type": "code",
   "execution_count": null,
   "id": "2ead82e8",
   "metadata": {},
   "outputs": [],
   "source": [
    "# article_grouped_df['is_oped'] = np.where(article_grouped_df['article_id'].isin(editorial_df['article_id']), True, False)"
   ]
  },
  {
   "cell_type": "code",
   "execution_count": null,
   "id": "e061d999",
   "metadata": {},
   "outputs": [],
   "source": []
  }
 ],
 "metadata": {
  "kernelspec": {
   "display_name": "covid-news",
   "language": "python",
   "name": "python3"
  },
  "language_info": {
   "codemirror_mode": {
    "name": "ipython",
    "version": 3
   },
   "file_extension": ".py",
   "mimetype": "text/x-python",
   "name": "python",
   "nbconvert_exporter": "python",
   "pygments_lexer": "ipython3",
   "version": "3.10.5 | packaged by conda-forge | (main, Jun 14 2022, 07:07:06) [Clang 13.0.1 ]"
  },
  "vscode": {
   "interpreter": {
    "hash": "ba768a010b84f1c09a4bb22ce6535c84a2bcdedd527dc40cbd91b132a400313e"
   }
  }
 },
 "nbformat": 4,
 "nbformat_minor": 5
}
